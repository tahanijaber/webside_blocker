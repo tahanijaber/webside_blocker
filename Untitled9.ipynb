{
  "nbformat": 4,
  "nbformat_minor": 0,
  "metadata": {
    "colab": {
      "name": "Untitled9.ipynb",
      "provenance": []
    },
    "kernelspec": {
      "name": "python3",
      "display_name": "Python 3"
    },
    "language_info": {
      "name": "python"
    }
  },
  "cells": [
    {
      "cell_type": "code",
      "metadata": {
        "id": "lXzbYuW6GAXt"
      },
      "source": [
        "import time\n",
        "from datetime import datetime as dt\n",
        "​\n",
        "sites_to_block = [\n",
        "    'Facebook',  'facebook.com',  \n",
        "    'YouTube', 'youtube.com',\n",
        "    'Gmail', 'gmail.com',\n",
        "    'Instagram','instagram.com'\n",
        "]\n",
        "​\n",
        "Lin_host = '/etc/hosts'\n",
        "Mac_host = '/private/etc/hosts'\n",
        "Win_host = r\"C:\\Windows\\System32\\drivers\\etc\\hosts\"\n",
        "default_hoster = Lin_host\n",
        "redirect = \"127.0.0.1\"\n",
        "​\n",
        "def block_websites(start_hour , end_hour):\n",
        "    while True:\n",
        "        if dt(dt.now().year, dt.now().month, dt.now().day,start_hour)< dt.now() < dt(dt.now().year, dt.now().month, dt.now().day,end_hour): \n",
        "            print(\"Do the work ....\")\n",
        "            with open(default_hoster, 'r+') as hostfile:\n",
        "                hosts = hostfile.read()\n",
        "                for site in  sites_to_block:\n",
        "                    if site not in hosts:\n",
        "                       hostfile.write(redirect+' '+site+'\\n')\n",
        "        else:\n",
        "            with open(default_hoster, 'r+') as hostfile:\n",
        "                hosts = hostfile.readlines()\n",
        "                hostfile.seek(0)\n",
        "                for host in hosts:\n",
        "                    if not any(site in host for site in sites_to_block):\n",
        "                        hostfile.write(host)\n",
        "                hostfile.truncate()\n",
        "            print('Good Time')\n",
        "        time.sleep(3)\n",
        "​\n",
        "if __name__ == '__main__':\n",
        "    block_websites(9, 18)\n"
      ],
      "execution_count": 10,
      "outputs": []
    }
  ]
}